{
 "cells": [
  {
   "cell_type": "markdown",
   "id": "07c11bda-ae0b-41e3-8fdc-b7f390349599",
   "metadata": {},
   "source": [
    "# Data Science Tools and Ecosystem"
   ]
  },
  {
   "cell_type": "markdown",
   "id": "1618968e-455b-48a6-94e2-f054bf8e663e",
   "metadata": {},
   "source": [
    "In this notebook, Data Science Tools and Ecosystem are summarized."
   ]
  },
  {
   "cell_type": "markdown",
   "id": "fc561fdf-a57e-41d9-af4e-adb76eda9118",
   "metadata": {},
   "source": [
    "Objectives:\n",
    "- **Languages that Data Scientist use** -\n",
    "- **List of Data Science libraries** -\n",
    "- **Table of Data Science Tools** -\n",
    "- **Arithmetic Expressions** -"
   ]
  },
  {
   "cell_type": "markdown",
   "id": "aa6edfe5-d727-4d27-8d81-f7fcff6fde99",
   "metadata": {},
   "source": [
    "Some of the popular languages that Data Scientists use are:\n",
    "1. Python\n",
    "2. R\n",
    "3. Java\n",
    "4. C++"
   ]
  },
  {
   "cell_type": "markdown",
   "id": "54820fd8-3a49-42b9-a05a-d47a4504489f",
   "metadata": {},
   "source": [
    "Some of the commonly used libraries used by Data Scientists include:\n",
    "1. NumPY\n",
    "2. Pandas\n",
    "3. Matplotlib\n",
    "4. Scikit-learn\n",
    "5. TensorFlow"
   ]
  },
  {
   "cell_type": "markdown",
   "id": "0fe26f2b-460f-4dd9-90e1-c161da894d61",
   "metadata": {},
   "source": [
    "|Data Science Tools|\n",
    "|------------------|\n",
    "|Jupyter Notebook|\n",
    "|RStudio|\n",
    "|Apache Spark|"
   ]
  },
  {
   "cell_type": "markdown",
   "id": "7582805f-4235-497c-af34-9f46607a867f",
   "metadata": {},
   "source": [
    "### Below are a few examples of evaluating arithmetic expressions in Python"
   ]
  },
  {
   "cell_type": "code",
   "execution_count": 18,
   "id": "41b71864-53de-41dd-aba5-4a67b56d5d13",
   "metadata": {},
   "outputs": [
    {
     "data": {
      "text/plain": [
       "17"
      ]
     },
     "execution_count": 18,
     "metadata": {},
     "output_type": "execute_result"
    }
   ],
   "source": [
    "#This a simple arithmetic expression to mutiply then add integers\n",
    "(3*4)+5"
   ]
  },
  {
   "cell_type": "code",
   "execution_count": 32,
   "id": "4a46b57d-13e2-4d40-aefc-bf6e36a3f5ec",
   "metadata": {},
   "outputs": [
    {
     "name": "stdout",
     "output_type": "stream",
     "text": [
      "200 mins are 3 hours and 20 mins.\n"
     ]
    }
   ],
   "source": [
    "#This will convert 200 minutes to hours by diving by 60\n",
    "hours = f\"200 mins are {int(200/60)} hours and {200%60} mins.\"\n",
    "print(hours)"
   ]
  },
  {
   "cell_type": "markdown",
   "id": "58c2e86d-30d1-4817-b22a-f9335e0ca0a8",
   "metadata": {},
   "source": [
    "## Author:\n",
    "Alexandros Bamis"
   ]
  },
  {
   "cell_type": "code",
   "execution_count": null,
   "id": "9f812b47-3bd6-42f8-b0dc-66481ac1677c",
   "metadata": {},
   "outputs": [],
   "source": []
  }
 ],
 "metadata": {
  "kernelspec": {
   "display_name": "Python 3 (ipykernel)",
   "language": "python",
   "name": "python3"
  },
  "language_info": {
   "codemirror_mode": {
    "name": "ipython",
    "version": 3
   },
   "file_extension": ".py",
   "mimetype": "text/x-python",
   "name": "python",
   "nbconvert_exporter": "python",
   "pygments_lexer": "ipython3",
   "version": "3.11.5"
  }
 },
 "nbformat": 4,
 "nbformat_minor": 5
}
